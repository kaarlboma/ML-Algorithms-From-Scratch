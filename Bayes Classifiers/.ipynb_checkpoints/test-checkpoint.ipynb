{
 "cells": [
  {
   "cell_type": "markdown",
   "id": "bacb567e-881f-40f0-a901-c5e7918ef32b",
   "metadata": {},
   "source": [
    "# Testing LDA, QDA, Naive Bayes with iris dataset"
   ]
  },
  {
   "cell_type": "code",
   "execution_count": 2,
   "id": "db1305cb-1d18-47bd-a374-3c04c31aa76f",
   "metadata": {},
   "outputs": [],
   "source": [
    "import numpy as np\n",
    "from sklearn.datasets import load_iris\n",
    "from LDA import LDAClassifier\n",
    "from sklearn.model_selection import train_test_split"
   ]
  },
  {
   "cell_type": "code",
   "execution_count": 3,
   "id": "47f69dc6-9d9a-4d30-90ab-5f51e0888624",
   "metadata": {},
   "outputs": [],
   "source": [
    "# Load the data\n",
    "data = load_iris()\n",
    "X = data.data\n",
    "Y = data.target"
   ]
  },
  {
   "cell_type": "code",
   "execution_count": 4,
   "id": "42d5f978-715f-43b0-9eef-d4c804404da7",
   "metadata": {},
   "outputs": [],
   "source": [
    "# Split the data\n",
    "X_train, X_test, Y_train, Y_test = train_test_split(X, Y, test_size = 0.2, random_state = 42)"
   ]
  },
  {
   "cell_type": "code",
   "execution_count": 5,
   "id": "e9234f65-1a46-4621-9476-a80c3734c903",
   "metadata": {
    "scrolled": true
   },
   "outputs": [
    {
     "name": "stdout",
     "output_type": "stream",
     "text": [
      "[1. 0. 1. 1. 1. 0. 1. 2. 1. 1. 2. 0. 0. 0. 0. 2. 2. 1. 1. 2. 0. 2. 0. 2.\n",
      " 2. 2. 1. 2. 0. 0.]\n"
     ]
    }
   ],
   "source": [
    "# Initialize the model\n",
    "model = LDAClassifier()\n",
    "model.fit(X_train, Y_train)\n",
    "model.predict(X_test)"
   ]
  },
  {
   "cell_type": "code",
   "execution_count": 12,
   "id": "e11f6604-a3a1-4a1f-ae11-78e70a4475be",
   "metadata": {},
   "outputs": [
    {
     "data": {
      "text/plain": [
       "array([1, 0, 2, 1, 1, 0, 1, 2, 1, 1, 2, 0, 0, 0, 0, 1, 2, 1, 1, 2, 0, 2,\n",
       "       0, 2, 2, 2, 2, 2, 0, 0])"
      ]
     },
     "execution_count": 12,
     "metadata": {},
     "output_type": "execute_result"
    }
   ],
   "source": [
    "model.score(Y_test)"
   ]
  },
  {
   "cell_type": "code",
   "execution_count": null,
   "id": "ace9b138-6cca-43c5-94c5-46b9549eca35",
   "metadata": {},
   "outputs": [],
   "source": [
    "model.score(Y)"
   ]
  }
 ],
 "metadata": {
  "kernelspec": {
   "display_name": "Python 3 (ipykernel)",
   "language": "python",
   "name": "python3"
  },
  "language_info": {
   "codemirror_mode": {
    "name": "ipython",
    "version": 3
   },
   "file_extension": ".py",
   "mimetype": "text/x-python",
   "name": "python",
   "nbconvert_exporter": "python",
   "pygments_lexer": "ipython3",
   "version": "3.12.2"
  }
 },
 "nbformat": 4,
 "nbformat_minor": 5
}
