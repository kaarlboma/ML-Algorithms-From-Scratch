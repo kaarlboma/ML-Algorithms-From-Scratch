{
 "cells": [
  {
   "cell_type": "markdown",
   "id": "bacb567e-881f-40f0-a901-c5e7918ef32b",
   "metadata": {},
   "source": [
    "# Testing LDA, QDA, Naive Bayes with iris dataset"
   ]
  },
  {
   "cell_type": "markdown",
   "id": "6c965b03-087c-4c74-9295-26cd2644d2d8",
   "metadata": {},
   "source": [
    "## Testing LDA"
   ]
  },
  {
   "cell_type": "code",
   "execution_count": 3,
   "id": "db1305cb-1d18-47bd-a374-3c04c31aa76f",
   "metadata": {},
   "outputs": [],
   "source": [
    "import numpy as np\n",
    "from sklearn.datasets import load_iris\n",
    "from LDA import LDAClassifier\n",
    "from QDA import QDAClassifier\n",
    "from sklearn.model_selection import train_test_split\n",
    "from sklearn.discriminant_analysis import LinearDiscriminantAnalysis"
   ]
  },
  {
   "cell_type": "code",
   "execution_count": 4,
   "id": "47f69dc6-9d9a-4d30-90ab-5f51e0888624",
   "metadata": {},
   "outputs": [],
   "source": [
    "# Load the data\n",
    "data = load_iris()\n",
    "X = data.data\n",
    "Y = data.target"
   ]
  },
  {
   "cell_type": "code",
   "execution_count": 5,
   "id": "42d5f978-715f-43b0-9eef-d4c804404da7",
   "metadata": {},
   "outputs": [],
   "source": [
    "# Split the data\n",
    "X_train, X_test, Y_train, Y_test = train_test_split(X, Y, test_size = 0.2, random_state = 42)"
   ]
  },
  {
   "cell_type": "code",
   "execution_count": 6,
   "id": "e9234f65-1a46-4621-9476-a80c3734c903",
   "metadata": {
    "scrolled": true
   },
   "outputs": [
    {
     "name": "stdout",
     "output_type": "stream",
     "text": [
      "[1. 0. 1. 1. 1. 0. 1. 2. 1. 1. 2. 0. 0. 0. 0. 2. 2. 1. 1. 2. 0. 2. 0. 2.\n",
      " 2. 2. 1. 2. 0. 0.]\n"
     ]
    }
   ],
   "source": [
    "# Initialize the model\n",
    "model = LDAClassifier()\n",
    "model.fit(X_train, Y_train)\n",
    "model.predict(X_test)"
   ]
  },
  {
   "cell_type": "code",
   "execution_count": 7,
   "id": "e11f6604-a3a1-4a1f-ae11-78e70a4475be",
   "metadata": {},
   "outputs": [
    {
     "name": "stdout",
     "output_type": "stream",
     "text": [
      "0.9\n"
     ]
    }
   ],
   "source": [
    "model.score(Y_test)"
   ]
  },
  {
   "cell_type": "code",
   "execution_count": 8,
   "id": "46bd80e9-e182-4cef-828a-c3d50ea82e80",
   "metadata": {},
   "outputs": [
    {
     "data": {
      "text/plain": [
       "array([1, 0, 2, 1, 1, 0, 1, 2, 1, 1, 2, 0, 0, 0, 0, 1, 2, 1, 1, 2, 0, 2,\n",
       "       0, 2, 2, 2, 2, 2, 0, 0])"
      ]
     },
     "execution_count": 8,
     "metadata": {},
     "output_type": "execute_result"
    }
   ],
   "source": [
    "# Compare with sklearn model\n",
    "sk_model = LinearDiscriminantAnalysis()\n",
    "sk_model.fit(X_train, Y_train)\n",
    "sk_model.predict(X_test)"
   ]
  },
  {
   "cell_type": "code",
   "execution_count": 9,
   "id": "1d11b716-753b-4d76-91de-87aa639bf285",
   "metadata": {},
   "outputs": [
    {
     "data": {
      "text/plain": [
       "1.0"
      ]
     },
     "execution_count": 9,
     "metadata": {},
     "output_type": "execute_result"
    }
   ],
   "source": [
    "sk_model.score(X_test, Y_test)"
   ]
  },
  {
   "cell_type": "markdown",
   "id": "6dc62cda-2cb1-42ed-a288-846e319a6ab7",
   "metadata": {},
   "source": [
    "### Testing QDA"
   ]
  },
  {
   "cell_type": "code",
   "execution_count": 11,
   "id": "07a04e25-d60b-49a8-9efb-827b81fb7b75",
   "metadata": {},
   "outputs": [
    {
     "name": "stdout",
     "output_type": "stream",
     "text": [
      "[1. 0. 2. 1. 1. 0. 1. 2. 2. 1. 2. 0. 0. 0. 0. 1. 2. 1. 1. 2. 0. 2. 0. 2.\n",
      " 2. 2. 2. 2. 0. 0.]\n"
     ]
    }
   ],
   "source": [
    "qda_model = QDAClassifier()\n",
    "qda_model.fit(X_train, Y_train)\n",
    "qda_model.predict(X_test)"
   ]
  },
  {
   "cell_type": "code",
   "execution_count": 25,
   "id": "cb6b9c31-2fa2-44c0-89af-abbc45af1785",
   "metadata": {},
   "outputs": [
    {
     "name": "stdout",
     "output_type": "stream",
     "text": [
      "0.9666666666666667\n"
     ]
    }
   ],
   "source": [
    "qda_model.score(Y_test)"
   ]
  }
 ],
 "metadata": {
  "kernelspec": {
   "display_name": "Python 3 (ipykernel)",
   "language": "python",
   "name": "python3"
  },
  "language_info": {
   "codemirror_mode": {
    "name": "ipython",
    "version": 3
   },
   "file_extension": ".py",
   "mimetype": "text/x-python",
   "name": "python",
   "nbconvert_exporter": "python",
   "pygments_lexer": "ipython3",
   "version": "3.12.2"
  }
 },
 "nbformat": 4,
 "nbformat_minor": 5
}
