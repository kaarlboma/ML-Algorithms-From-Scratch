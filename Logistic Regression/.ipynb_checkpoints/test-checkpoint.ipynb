{
 "cells": [
  {
   "cell_type": "markdown",
   "id": "62fe2f2e-3df7-47e7-a367-c4f766d0cd40",
   "metadata": {},
   "source": [
    "### Use breast cancer dataset to test logistic regression"
   ]
  },
  {
   "cell_type": "code",
   "execution_count": 2,
   "id": "76fe83d1-ea27-4652-9efc-8b04eb0defa0",
   "metadata": {},
   "outputs": [],
   "source": [
    "from sklearn.datasets import load_breast_cancer\n",
    "from sklearn.model_selection import train_test_split\n",
    "from logistic_regressor import LogisticRegressor"
   ]
  },
  {
   "cell_type": "code",
   "execution_count": 3,
   "id": "e06afb13-238b-4a3f-bbe7-11e3870eb8d9",
   "metadata": {},
   "outputs": [],
   "source": [
    "data = load_breast_cancer()\n",
    "X_train, X_test, y_train, y_test = train_test_split(data.data, data.target, test_size = 0.2, random_state = 42) "
   ]
  },
  {
   "cell_type": "code",
   "execution_count": 4,
   "id": "9b29350a-1ac1-4ce4-b474-91031ac59a6c",
   "metadata": {},
   "outputs": [],
   "source": [
    "model = LogisticRegressor()"
   ]
  },
  {
   "cell_type": "code",
   "execution_count": 5,
   "id": "d144428a-39ca-42ca-be91-b8fda927d2e3",
   "metadata": {},
   "outputs": [],
   "source": [
    "model.fit(X_train, y_train)"
   ]
  },
  {
   "cell_type": "code",
   "execution_count": 6,
   "id": "aa9f4ca4-b0d2-43bb-8509-d9ca7c27bb13",
   "metadata": {
    "scrolled": true
   },
   "outputs": [
    {
     "name": "stdout",
     "output_type": "stream",
     "text": [
      "(114, 31)\n"
     ]
    },
    {
     "name": "stderr",
     "output_type": "stream",
     "text": [
      "/Users/karlboma/Documents/Python Stuff/Side Projects/ML Algorithms from Scratch/Logistic Regression/logistic_regressor.py:42: RuntimeWarning: overflow encountered in exp\n",
      "  p_x = np.exp(x_test @ self.params) / (1 + np.exp(x_test @ self.params))\n",
      "/Users/karlboma/Documents/Python Stuff/Side Projects/ML Algorithms from Scratch/Logistic Regression/logistic_regressor.py:42: RuntimeWarning: invalid value encountered in divide\n",
      "  p_x = np.exp(x_test @ self.params) / (1 + np.exp(x_test @ self.params))\n"
     ]
    },
    {
     "ename": "ValueError",
     "evalue": "The truth value of an array with more than one element is ambiguous. Use a.any() or a.all()",
     "output_type": "error",
     "traceback": [
      "\u001b[0;31m---------------------------------------------------------------------------\u001b[0m",
      "\u001b[0;31mValueError\u001b[0m                                Traceback (most recent call last)",
      "Cell \u001b[0;32mIn[6], line 1\u001b[0m\n\u001b[0;32m----> 1\u001b[0m model\u001b[38;5;241m.\u001b[39mpredict(X_test)\n",
      "File \u001b[0;32m~/Documents/Python Stuff/Side Projects/ML Algorithms from Scratch/Logistic Regression/logistic_regressor.py:43\u001b[0m, in \u001b[0;36mLogisticRegressor.predict\u001b[0;34m(self, x_test)\u001b[0m\n\u001b[1;32m     41\u001b[0m \u001b[38;5;28mprint\u001b[39m(x_test\u001b[38;5;241m.\u001b[39mshape)\n\u001b[1;32m     42\u001b[0m p_x \u001b[38;5;241m=\u001b[39m np\u001b[38;5;241m.\u001b[39mexp(x_test \u001b[38;5;241m@\u001b[39m \u001b[38;5;28mself\u001b[39m\u001b[38;5;241m.\u001b[39mparams) \u001b[38;5;241m/\u001b[39m (\u001b[38;5;241m1\u001b[39m \u001b[38;5;241m+\u001b[39m np\u001b[38;5;241m.\u001b[39mexp(x_test \u001b[38;5;241m@\u001b[39m \u001b[38;5;28mself\u001b[39m\u001b[38;5;241m.\u001b[39mparams))\n\u001b[0;32m---> 43\u001b[0m \u001b[38;5;28;01mreturn\u001b[39;00m \u001b[38;5;241m1\u001b[39m \u001b[38;5;28;01mif\u001b[39;00m p_x \u001b[38;5;241m>\u001b[39m\u001b[38;5;241m=\u001b[39m \u001b[38;5;241m0.5\u001b[39m \u001b[38;5;28;01melse\u001b[39;00m \u001b[38;5;241m0\u001b[39m\n",
      "\u001b[0;31mValueError\u001b[0m: The truth value of an array with more than one element is ambiguous. Use a.any() or a.all()"
     ]
    }
   ],
   "source": [
    "model.predict(X_test)"
   ]
  },
  {
   "cell_type": "code",
   "execution_count": null,
   "id": "279d2a2b-c6c5-47ed-a9f6-3fc4a88e1365",
   "metadata": {},
   "outputs": [],
   "source": []
  }
 ],
 "metadata": {
  "kernelspec": {
   "display_name": "Python 3 (ipykernel)",
   "language": "python",
   "name": "python3"
  },
  "language_info": {
   "codemirror_mode": {
    "name": "ipython",
    "version": 3
   },
   "file_extension": ".py",
   "mimetype": "text/x-python",
   "name": "python",
   "nbconvert_exporter": "python",
   "pygments_lexer": "ipython3",
   "version": "3.12.2"
  }
 },
 "nbformat": 4,
 "nbformat_minor": 5
}
