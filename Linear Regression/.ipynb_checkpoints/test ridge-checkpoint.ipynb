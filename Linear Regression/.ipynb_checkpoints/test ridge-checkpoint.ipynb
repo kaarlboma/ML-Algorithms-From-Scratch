{
 "cells": [
  {
   "cell_type": "code",
   "execution_count": 1,
   "id": "29ecae51-77cb-40b5-a2b0-fe48b56aef67",
   "metadata": {},
   "outputs": [],
   "source": [
    "import numpy as np\n",
    "import RidgeRegressor from RidgeRegressor\n",
    "\n",
    "def generate_ridge_data(n_samples=100, n_features=5, noise_std=1.0, seed=42):\n",
    "    \"\"\"\n",
    "    Generates synthetic linear data for testing ridge regression.\n",
    "\n",
    "    Parameters:\n",
    "        n_samples (int): Number of data points\n",
    "        n_features (int): Number of input features (excluding intercept)\n",
    "        noise_std (float): Standard deviation of Gaussian noise\n",
    "        seed (int): Random seed for reproducibility\n",
    "\n",
    "    Returns:\n",
    "        X (ndarray): Feature matrix of shape (n_samples, n_features)\n",
    "        y (ndarray): Target vector of shape (n_samples,)\n",
    "        true_beta (ndarray): Ground truth beta including intercept (shape (n_features + 1,))\n",
    "    \"\"\"\n",
    "    np.random.seed(seed)\n",
    "    X = np.random.randn(n_samples, n_features)\n",
    "    \n",
    "    # Ground truth coefficients (including intercept)\n",
    "    true_beta = np.random.uniform(-3, 3, size=n_features + 1)  # intercept + feature coefficients\n",
    "    intercept = true_beta[0]\n",
    "    weights = true_beta[1:]\n",
    "\n",
    "    # Linear relationship + noise\n",
    "    y = intercept + X @ weights + np.random.normal(0, noise_std, size=n_samples)\n",
    "\n",
    "    return X, y, true_beta"
   ]
  },
  {
   "cell_type": "code",
   "execution_count": 5,
   "id": "dcda2ae6-55e1-4e19-9613-671ca77c877a",
   "metadata": {},
   "outputs": [],
   "source": [
    "X, y, true_beta = generate_ridge_data()"
   ]
  },
  {
   "cell_type": "code",
   "execution_count": 6,
   "id": "0a38cab4-65b8-4da8-9b25-48369942be4a",
   "metadata": {},
   "outputs": [],
   "source": [
    "import matplotlib.pyplot as plt"
   ]
  },
  {
   "cell_type": "code",
   "execution_count": null,
   "id": "b8d04ef2-a99c-4529-b5db-e19d652441d2",
   "metadata": {},
   "outputs": [],
   "source": []
  }
 ],
 "metadata": {
  "kernelspec": {
   "display_name": "Python 3 (ipykernel)",
   "language": "python",
   "name": "python3"
  },
  "language_info": {
   "codemirror_mode": {
    "name": "ipython",
    "version": 3
   },
   "file_extension": ".py",
   "mimetype": "text/x-python",
   "name": "python",
   "nbconvert_exporter": "python",
   "pygments_lexer": "ipython3",
   "version": "3.12.7"
  }
 },
 "nbformat": 4,
 "nbformat_minor": 5
}
